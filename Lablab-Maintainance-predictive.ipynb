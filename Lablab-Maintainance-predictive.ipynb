{
  "nbformat": 4,
  "nbformat_minor": 0,
  "metadata": {
    "colab": {
      "provenance": [],
      "include_colab_link": true
    },
    "kernelspec": {
      "name": "python3",
      "display_name": "Python 3"
    },
    "language_info": {
      "name": "python"
    }
  },
  "cells": [
    {
      "cell_type": "markdown",
      "metadata": {
        "id": "view-in-github",
        "colab_type": "text"
      },
      "source": [
        "<a href=\"https://colab.research.google.com/github/samina-if/Maintenance-predictive-System/blob/main/Lablab-Maintainance-predictive.ipynb\" target=\"_parent\"><img src=\"https://colab.research.google.com/assets/colab-badge.svg\" alt=\"Open In Colab\"/></a>"
      ]
    },
    {
      "cell_type": "code",
      "source": [
        "# Install necessary libraries (if not already installed)\n",
        "# Uncomment this line if you're missing the Gradio library\n",
        "# !pip install gradio\n",
        "!pip install gradio\n",
        "import datetime\n",
        "import gradio as gr\n",
        "\n",
        "# Function to predict maintenance details for IT infrastructure\n",
        "def predict_server_maintenance(last_service_date, cpu_load, storage_utilization, temperature):\n",
        "    try:\n",
        "        # Parse the last service date\n",
        "        last_service = datetime.datetime.strptime(last_service_date, \"%Y-%m-%d\")\n",
        "\n",
        "        # Calculate maintenance interval based on metrics\n",
        "        if cpu_load > 80 or storage_utilization > 90 or temperature > 75:\n",
        "            maintenance_interval = 30  # High risk: 30 days\n",
        "            risk_level = \"High\"\n",
        "        elif cpu_load > 60 or storage_utilization > 70 or temperature > 60:\n",
        "            maintenance_interval = 60  # Medium risk: 60 days\n",
        "            risk_level = \"Medium\"\n",
        "        else:\n",
        "            maintenance_interval = 90  # Low risk: 90 days\n",
        "            risk_level = \"Low\"\n",
        "\n",
        "        # Calculate the next service date\n",
        "        next_service_date = last_service + datetime.timedelta(days=maintenance_interval)\n",
        "\n",
        "        # Return the prediction results\n",
        "        return {\n",
        "            \"Next Service Date\": next_service_date.strftime(\"%Y-%m-%d\"),\n",
        "            \"Risk Level\": risk_level\n",
        "        }\n",
        "    except Exception as e:\n",
        "        return {\"Error\": str(e)}\n",
        "\n",
        "# Custom CSS for styling the Gradio interface\n",
        "custom_css = \"\"\"\n",
        "body {\n",
        "    background: grey;\n",
        "    color: #1b5e20;\n",
        "    font-family: Arial, sans-serif;\n",
        "}\n",
        "\n",
        "h1, h2, h3, h4, h5, h6 {\n",
        "    color: blue;\n",
        "}\n",
        "\n",
        ".gradio-container {\n",
        "    border-radius: 12px;\n",
        "    box-shadow: 0px 4px 20px rgba(0, 0, 0, 0.2);\n",
        "    padding: 20px;\n",
        "}\n",
        "\n",
        "label {\n",
        "    color: blue;\n",
        "    font-weight: bold;\n",
        "}\n",
        "\n",
        ".gr-button {\n",
        "    background-color: #01579b;\n",
        "    color: white;\n",
        "    border: none;\n",
        "    border-radius: 8px;\n",
        "    font-size: 16px;\n",
        "    padding: 8px 16px;\n",
        "}\n",
        "\n",
        ".gr-button:hover {\n",
        "    background-color: #0277bd;\n",
        "}\n",
        "\"\"\"\n",
        "\n",
        "# Gradio interface definition\n",
        "interface = gr.Interface(\n",
        "    fn=predict_server_maintenance,\n",
        "    inputs=[\n",
        "        gr.Textbox(label=\"Last Service Date (YYYY-MM-DD)\", placeholder=\"e.g., 2025-01-01\"),\n",
        "        gr.Slider(label=\"CPU Load (%)\", minimum=0, maximum=100, step=1, value=50),\n",
        "        gr.Slider(label=\"Storage Utilization (%)\", minimum=0, maximum=100, step=1, value=50),\n",
        "        gr.Slider(label=\"Temperature (°C)\", minimum=0, maximum=100, step=1, value=25)\n",
        "    ],\n",
        "    outputs=gr.JSON(label=\"Maintenance Prediction\"),\n",
        "    title=\"IT Infrastructure Maintenance Tool\",\n",
        "    description=\"Predict the next maintenance date and risk level for servers and data center components based on CPU load, storage utilization, and temperature.\",\n",
        "    theme=\"compact\",\n",
        "    css=custom_css\n",
        ")\n",
        "\n",
        "# Launch the Gradio interface\n",
        "interface.launch()"
      ],
      "metadata": {
        "id": "5AbN1QZGVzeu"
      },
      "execution_count": null,
      "outputs": []
    }
  ]
}